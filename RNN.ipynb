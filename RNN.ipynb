{
 "cells": [
  {
   "cell_type": "code",
   "execution_count": 20,
   "metadata": {},
   "outputs": [],
   "source": [
    "import tensorflow as tf\n",
    "import numpy as np"
   ]
  },
  {
   "cell_type": "code",
   "execution_count": 21,
   "metadata": {},
   "outputs": [],
   "source": [
    "def reset_graph(seed=318):\n",
    "    tf.reset_default_graph()\n",
    "    tf.set_random_seed(seed)\n",
    "    np.random.seed(seed)"
   ]
  },
  {
   "cell_type": "code",
   "execution_count": 22,
   "metadata": {},
   "outputs": [],
   "source": [
    "from tensorflow.examples.tutorials.mnist import input_data"
   ]
  },
  {
   "cell_type": "code",
   "execution_count": 23,
   "metadata": {},
   "outputs": [
    {
     "name": "stdout",
     "output_type": "stream",
     "text": [
      "Extracting /Users/huwenyue/mnist2/train-images-idx3-ubyte.gz\n",
      "Extracting /Users/huwenyue/mnist2/train-labels-idx1-ubyte.gz\n",
      "Extracting /Users/huwenyue/mnist2/t10k-images-idx3-ubyte.gz\n",
      "Extracting /Users/huwenyue/mnist2/t10k-labels-idx1-ubyte.gz\n"
     ]
    }
   ],
   "source": [
    "mnist = input_data.read_data_sets('/Users/huwenyue/mnist2/',one_hot=True)"
   ]
  },
  {
   "cell_type": "code",
   "execution_count": 24,
   "metadata": {},
   "outputs": [],
   "source": [
    "#image\n",
    "img_height = 28\n",
    "img_width = 28\n",
    "img_channels = 1\n",
    "img_classes = 10\n",
    "\n",
    "#neural network\n",
    "n_steps = img_height\n",
    "n_inputs = img_width\n",
    "n_neurons = 20\n",
    "n_outputs = img_classes\n",
    "\n",
    "learning_rate = 1e-4"
   ]
  },
  {
   "cell_type": "code",
   "execution_count": 25,
   "metadata": {},
   "outputs": [],
   "source": [
    "reset_graph()"
   ]
  },
  {
   "cell_type": "code",
   "execution_count": 26,
   "metadata": {},
   "outputs": [],
   "source": [
    "x = tf.placeholder(tf.float32,[None,n_steps,n_inputs])\n",
    "y = tf.placeholder(tf.float32,[None,n_outputs])"
   ]
  },
  {
   "cell_type": "code",
   "execution_count": 27,
   "metadata": {},
   "outputs": [],
   "source": [
    "#RNN\n",
    "outputs,states = tf.nn.dynamic_rnn(tf.contrib.rnn.BasicRNNCell(n_neurons,activation=tf.nn.tanh),x,dtype=tf.float32)\n",
    "\n",
    "#output layer\n",
    "logits = tf.layers.dense(states,n_outputs,activation=tf.nn.softmax)\n"
   ]
  },
  {
   "cell_type": "code",
   "execution_count": 28,
   "metadata": {},
   "outputs": [],
   "source": [
    "#loss\n",
    "cross_entropy = tf.nn.softmax_cross_entropy_with_logits(labels=y,logits=logits)\n",
    "loss = tf.reduce_mean(cross_entropy)"
   ]
  },
  {
   "cell_type": "code",
   "execution_count": 29,
   "metadata": {},
   "outputs": [],
   "source": [
    "#optimizer\n",
    "train = tf.train.AdamOptimizer(learning_rate).minimize(loss)"
   ]
  },
  {
   "cell_type": "code",
   "execution_count": 30,
   "metadata": {},
   "outputs": [],
   "source": [
    "#evaluation models\n",
    "correct = tf.equal(tf.argmax(y,1),tf.argmax(logits,1))\n",
    "accuracy = tf.reduce_mean(tf.cast(correct,tf.float32))"
   ]
  },
  {
   "cell_type": "code",
   "execution_count": 31,
   "metadata": {},
   "outputs": [],
   "source": [
    "n_epochs = 21\n",
    "batch_size = 10\n",
    "\n",
    "init = tf.global_variables_initializer()\n",
    "\n",
    "#统计量\n",
    "loss_summary = tf.summary.scalar(\"loss\",loss)\n",
    "acc_summary = tf.summary.scalar(\"acc\",accuracy)\n",
    "merged = tf.summary.merge_all()\n",
    "\n",
    "#保存统计信息的磁盘文件\n",
    "logdir = \"/Users/huwenyue/mnist_logs/\"\n",
    "file_writer = tf.summary.FileWriter(logdir,tf.get_default_graph())\n",
    "\n",
    "#build check points\n",
    "checkpoints_path = \"/Users/huwenyue/mnist_checkpoints/\"\n",
    "saver = tf.train.Saver()"
   ]
  },
  {
   "cell_type": "code",
   "execution_count": 32,
   "metadata": {},
   "outputs": [
    {
     "name": "stdout",
     "output_type": "stream",
     "text": [
      "epoch:  0 train_acc:  0.1 ;test_acc:  0.2\n",
      "epoch:  1 train_acc:  0.1 ;test_acc:  0.1\n",
      "epoch:  2 train_acc:  0.2 ;test_acc:  0.3\n",
      "epoch:  3 train_acc:  0.0 ;test_acc:  0.1\n",
      "epoch:  4 train_acc:  0.1 ;test_acc:  0.1\n",
      "epoch:  5 train_acc:  0.0 ;test_acc:  0.0\n",
      "epoch:  6 train_acc:  0.0 ;test_acc:  0.0\n",
      "epoch:  7 train_acc:  0.1 ;test_acc:  0.1\n",
      "epoch:  8 train_acc:  0.0 ;test_acc:  0.0\n",
      "epoch:  9 train_acc:  0.3 ;test_acc:  0.0\n",
      "epoch:  10 train_acc:  0.3 ;test_acc:  0.1\n",
      "epoch:  11 train_acc:  0.3 ;test_acc:  0.1\n",
      "epoch:  12 train_acc:  0.2 ;test_acc:  0.2\n",
      "epoch:  13 train_acc:  0.0 ;test_acc:  0.0\n",
      "epoch:  14 train_acc:  0.0 ;test_acc:  0.0\n",
      "epoch:  15 train_acc:  0.0 ;test_acc:  0.2\n",
      "epoch:  16 train_acc:  0.2 ;test_acc:  0.2\n",
      "epoch:  17 train_acc:  0.1 ;test_acc:  0.1\n",
      "epoch:  18 train_acc:  0.1 ;test_acc:  0.1\n",
      "epoch:  19 train_acc:  0.1 ;test_acc:  0.1\n",
      "epoch:  20 train_acc:  0.0 ;test_acc:  0.3\n"
     ]
    }
   ],
   "source": [
    "with tf.Session() as sess:\n",
    "    sess.run(init)\n",
    "    #saver.restore(sess,checkpoints_path)\n",
    "    \n",
    "    for epoch in range(n_epochs):\n",
    "        #training\n",
    "        x_batch, y_batch = mnist.train.next_batch(batch_size)\n",
    "        x_batch_rnn = np.reshape(x_batch,[-1,n_steps,n_inputs])\n",
    "        train_acc, _= sess.run([accuracy,train],feed_dict={x:x_batch_rnn,y:y_batch})\n",
    "        \n",
    "        #testing\n",
    "        x_batch, y_batch = mnist.test.next_batch(batch_size)\n",
    "        x_batch_rnn = np.reshape(x_batch,[-1,n_steps,n_inputs])\n",
    "        [merged_str,test_acc] = sess.run([merged,accuracy],feed_dict={x:x_batch_rnn,y:y_batch})\n",
    "        \n",
    "        file_writer.add_summary(merged_str,epoch)\n",
    "        print(\"epoch: \", str(epoch),\"train_acc: \",str(train_acc),\";test_acc: \",str(test_acc))\n",
    "    saver.save(sess,checkpoints_path)\n",
    "    \n",
    "file_writer.close()"
   ]
  },
  {
   "cell_type": "code",
   "execution_count": 33,
   "metadata": {},
   "outputs": [
    {
     "name": "stdout",
     "output_type": "stream",
     "text": [
      "\u001b[34mAnacondaProjects\u001b[m\u001b[m   \u001b[34mDownloads\u001b[m\u001b[m          \u001b[34mPictures\u001b[m\u001b[m           \u001b[34mmnist2\u001b[m\u001b[m\r\n",
      "\u001b[34mApplications\u001b[m\u001b[m       \u001b[34mLibrary\u001b[m\u001b[m            \u001b[34mPublic\u001b[m\u001b[m             \u001b[34mmnist_checkpoints\u001b[m\u001b[m\r\n",
      "\u001b[34mDesktop\u001b[m\u001b[m            \u001b[34mMovies\u001b[m\u001b[m             RNN.ipynb          \u001b[34mmnist_logs\u001b[m\u001b[m\r\n",
      "\u001b[34mDocuments\u001b[m\u001b[m          \u001b[34mMusic\u001b[m\u001b[m              \u001b[34manaconda3\u001b[m\u001b[m          约瑟夫环.ipynb\r\n"
     ]
    }
   ],
   "source": [
    "!ls"
   ]
  },
  {
   "cell_type": "code",
   "execution_count": null,
   "metadata": {},
   "outputs": [],
   "source": []
  }
 ],
 "metadata": {
  "kernelspec": {
   "display_name": "Python 3",
   "language": "python",
   "name": "python3"
  },
  "language_info": {
   "codemirror_mode": {
    "name": "ipython",
    "version": 3
   },
   "file_extension": ".py",
   "mimetype": "text/x-python",
   "name": "python",
   "nbconvert_exporter": "python",
   "pygments_lexer": "ipython3",
   "version": "3.5.4"
  }
 },
 "nbformat": 4,
 "nbformat_minor": 2
}
